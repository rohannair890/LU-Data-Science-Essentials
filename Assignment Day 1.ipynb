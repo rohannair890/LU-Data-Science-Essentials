{
 "cells": [
  {
   "cell_type": "markdown",
   "metadata": {},
   "source": [
    "# Question no 1 answer"
   ]
  },
  {
   "cell_type": "markdown",
   "metadata": {},
   "source": [
    "B.RAINBOW"
   ]
  },
  {
   "cell_type": "markdown",
   "metadata": {},
   "source": [
    "# Question no 2 answer"
   ]
  },
  {
   "cell_type": "code",
   "execution_count": 1,
   "metadata": {},
   "outputs": [
    {
     "name": "stdout",
     "output_type": "stream",
     "text": [
      "LETS UPGRADE\n"
     ]
    }
   ],
   "source": [
    "name_str=\"lets upgrade\"\n",
    "print(name_str.upper())"
   ]
  },
  {
   "cell_type": "markdown",
   "metadata": {},
   "source": [
    "# Question no 3 answer"
   ]
  },
  {
   "cell_type": "code",
   "execution_count": 4,
   "metadata": {},
   "outputs": [
    {
     "name": "stdout",
     "output_type": "stream",
     "text": [
      "20\n",
      "30\n",
      "Profit\n"
     ]
    }
   ],
   "source": [
    "cost_price=int(input())\n",
    "selling_price=int(input())\n",
    "if cost_price<selling_price :\n",
    "    print(\"Profit\")\n",
    "elif cost_price>selling_price :\n",
    "    print(\"Loss\")\n",
    "else :\n",
    "    print(\"Neither\")"
   ]
  },
  {
   "cell_type": "code",
   "execution_count": 5,
   "metadata": {},
   "outputs": [
    {
     "name": "stdout",
     "output_type": "stream",
     "text": [
      "20\n",
      "10\n",
      "Loss\n"
     ]
    }
   ],
   "source": [
    "cost_price=int(input())\n",
    "selling_price=int(input())\n",
    "if cost_price<selling_price :\n",
    "    print(\"Profit\")\n",
    "elif cost_price>selling_price :\n",
    "    print(\"Loss\")\n",
    "else :\n",
    "    print(\"Neither\")"
   ]
  },
  {
   "cell_type": "code",
   "execution_count": 6,
   "metadata": {},
   "outputs": [
    {
     "name": "stdout",
     "output_type": "stream",
     "text": [
      "20\n",
      "20\n",
      "Neither\n"
     ]
    }
   ],
   "source": [
    "cost_price=int(input())\n",
    "selling_price=int(input())\n",
    "if cost_price<selling_price :\n",
    "    print(\"Profit\")\n",
    "elif cost_price>selling_price :\n",
    "    print(\"Loss\")\n",
    "else :\n",
    "    print(\"Neither\")"
   ]
  },
  {
   "cell_type": "code",
   "execution_count": 7,
   "metadata": {},
   "outputs": [
    {
     "name": "stdout",
     "output_type": "stream",
     "text": [
      "19\n",
      "19\n",
      "Neither\n"
     ]
    }
   ],
   "source": [
    "cost_price=int(input())\n",
    "selling_price=int(input())\n",
    "if cost_price<selling_price :\n",
    "    print(\"Profit\")\n",
    "elif cost_price>selling_price :\n",
    "    print(\"Loss\")\n",
    "else :\n",
    "    print(\"Neither\")"
   ]
  },
  {
   "cell_type": "code",
   "execution_count": 8,
   "metadata": {},
   "outputs": [
    {
     "name": "stdout",
     "output_type": "stream",
     "text": [
      "23\n",
      "7\n",
      "Loss\n"
     ]
    }
   ],
   "source": [
    "cost_price=int(input())\n",
    "selling_price=int(input())\n",
    "if cost_price<selling_price :\n",
    "    print(\"Profit\")\n",
    "elif cost_price>selling_price :\n",
    "    print(\"Loss\")\n",
    "else :\n",
    "    print(\"Neither\")"
   ]
  },
  {
   "cell_type": "code",
   "execution_count": 9,
   "metadata": {},
   "outputs": [
    {
     "name": "stdout",
     "output_type": "stream",
     "text": [
      "19\n",
      "95\n",
      "Profit\n"
     ]
    }
   ],
   "source": [
    "cost_price=int(input())\n",
    "selling_price=int(input())\n",
    "if cost_price<selling_price :\n",
    "    print(\"Profit\")\n",
    "elif cost_price>selling_price :\n",
    "    print(\"Loss\")\n",
    "else :\n",
    "    print(\"Neither\")"
   ]
  },
  {
   "cell_type": "markdown",
   "metadata": {},
   "source": [
    "# Question no 4 answer"
   ]
  },
  {
   "cell_type": "code",
   "execution_count": 14,
   "metadata": {},
   "outputs": [
    {
     "name": "stdout",
     "output_type": "stream",
     "text": [
      "20\n",
      "1600\n"
     ]
    }
   ],
   "source": [
    "indian_rupees=int(input())\n",
    "euro=80\n",
    "res=indian_rupees*euro\n",
    "print(res)\n",
    "\n"
   ]
  },
  {
   "cell_type": "code",
   "execution_count": 15,
   "metadata": {},
   "outputs": [
    {
     "name": "stdout",
     "output_type": "stream",
     "text": [
      "50\n",
      "4000\n"
     ]
    }
   ],
   "source": [
    "indian_rupees=int(input())\n",
    "euro=80\n",
    "res=indian_rupees*euro\n",
    "print(res)\n"
   ]
  },
  {
   "cell_type": "code",
   "execution_count": 16,
   "metadata": {},
   "outputs": [
    {
     "name": "stdout",
     "output_type": "stream",
     "text": [
      "72\n",
      "5760\n"
     ]
    }
   ],
   "source": [
    "indian_rupees=int(input())\n",
    "euro=80\n",
    "res=indian_rupees*euro\n",
    "print(res)\n"
   ]
  },
  {
   "cell_type": "code",
   "execution_count": 17,
   "metadata": {},
   "outputs": [
    {
     "name": "stdout",
     "output_type": "stream",
     "text": [
      "7\n",
      "560\n"
     ]
    }
   ],
   "source": [
    "indian_rupees=int(input())\n",
    "euro=80\n",
    "res=indian_rupees*euro\n",
    "print(res)\n"
   ]
  },
  {
   "cell_type": "code",
   "execution_count": 18,
   "metadata": {},
   "outputs": [
    {
     "name": "stdout",
     "output_type": "stream",
     "text": [
      "35\n",
      "2800\n"
     ]
    }
   ],
   "source": [
    "indian_rupees=int(input())\n",
    "euro=80\n",
    "res=indian_rupees*euro\n",
    "print(res)\n"
   ]
  },
  {
   "cell_type": "code",
   "execution_count": 19,
   "metadata": {},
   "outputs": [
    {
     "name": "stdout",
     "output_type": "stream",
     "text": [
      "23\n",
      "1840\n"
     ]
    }
   ],
   "source": [
    "indian_rupees=int(input())\n",
    "euro=80\n",
    "res=indian_rupees*euro\n",
    "print(res)\n"
   ]
  },
  {
   "cell_type": "code",
   "execution_count": 20,
   "metadata": {},
   "outputs": [
    {
     "name": "stdout",
     "output_type": "stream",
     "text": [
      "95\n",
      "7600\n"
     ]
    }
   ],
   "source": [
    "indian_rupees=int(input())\n",
    "euro=80\n",
    "res=indian_rupees*euro\n",
    "print(res)\n"
   ]
  },
  {
   "cell_type": "code",
   "execution_count": 21,
   "metadata": {},
   "outputs": [
    {
     "name": "stdout",
     "output_type": "stream",
     "text": [
      "18\n",
      "1440\n"
     ]
    }
   ],
   "source": [
    "indian_rupees=int(input())\n",
    "euro=80\n",
    "res=indian_rupees*euro\n",
    "print(res)\n"
   ]
  },
  {
   "cell_type": "code",
   "execution_count": null,
   "metadata": {},
   "outputs": [],
   "source": []
  }
 ],
 "metadata": {
  "kernelspec": {
   "display_name": "Python 3",
   "language": "python",
   "name": "python3"
  },
  "language_info": {
   "codemirror_mode": {
    "name": "ipython",
    "version": 3
   },
   "file_extension": ".py",
   "mimetype": "text/x-python",
   "name": "python",
   "nbconvert_exporter": "python",
   "pygments_lexer": "ipython3",
   "version": "3.8.3"
  }
 },
 "nbformat": 4,
 "nbformat_minor": 4
}
