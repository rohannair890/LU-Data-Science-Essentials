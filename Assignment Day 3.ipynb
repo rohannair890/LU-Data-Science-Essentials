{
 "cells": [
  {
   "cell_type": "markdown",
   "metadata": {},
   "source": [
    "# Question no 1 answer"
   ]
  },
  {
   "cell_type": "code",
   "execution_count": 13,
   "metadata": {},
   "outputs": [
    {
     "name": "stdout",
     "output_type": "stream",
     "text": [
      "[ 2  5  8 11 14 17 20 23 26 29 32 35 38 41 44 47 50]\n"
     ]
    }
   ],
   "source": [
    "import numpy as np\n",
    "arr=np.arange(2,51,3)\n",
    "print(arr)\n"
   ]
  },
  {
   "cell_type": "markdown",
   "metadata": {},
   "source": [
    "# Question no 2 answer"
   ]
  },
  {
   "cell_type": "code",
   "execution_count": 9,
   "metadata": {},
   "outputs": [
    {
     "name": "stdout",
     "output_type": "stream",
     "text": [
      "2\n",
      "3\n",
      "1\n",
      "5\n",
      "4\n",
      "[2, 3, 1, 5, 4]\n",
      "\n",
      "7\n",
      "6\n",
      "9\n",
      "10\n",
      "8\n",
      "[7, 6, 9, 10, 8]\n",
      "\n",
      "[2 3 1 5 4]\n",
      "\n",
      "[ 7  6  9 10  8]\n",
      "\n",
      "[ 2  3  1  5  4  7  6  9 10  8]\n",
      "[ 1  2  3  4  5  6  7  8  9 10]\n"
     ]
    }
   ],
   "source": [
    "import numpy as np\n",
    "list1=[]\n",
    "list2=[]\n",
    "for i in range(5) :\n",
    "    a=int(input())\n",
    "    list1.append(a) \n",
    "print(list1)\n",
    "print()\n",
    "for i in range(5) :\n",
    "    b=int(input())\n",
    "    list2.append(b)\n",
    "print(list2)\n",
    "arr1=np.array(list1)\n",
    "arr2=np.array(list2)\n",
    "print()\n",
    "print(arr1)\n",
    "print()\n",
    "print(arr2)\n",
    "print()\n",
    "arr=np.concatenate((arr1,arr2))\n",
    "print(arr)\n",
    "print(np.sort(arr))"
   ]
  },
  {
   "cell_type": "markdown",
   "metadata": {},
   "source": [
    "# Question no 3 answer"
   ]
  },
  {
   "cell_type": "code",
   "execution_count": 14,
   "metadata": {},
   "outputs": [
    {
     "name": "stdout",
     "output_type": "stream",
     "text": [
      "[ 1  2  3  4  5  6  7  8  9 10]\n",
      "\n",
      "[[ 1  2  3]\n",
      " [ 4  5  6]\n",
      " [ 7  8  9]\n",
      " [10 11 12]]\n",
      "\n",
      "1\n",
      "\n",
      "2\n",
      "\n",
      "(10,)\n",
      "\n",
      "(4, 3)\n",
      "\n",
      "10\n",
      "\n",
      "12\n"
     ]
    }
   ],
   "source": [
    "import numpy as np\n",
    "arr_1d=np.array([1,2,3,4,5,6,7,8,9,10])\n",
    "print(arr_1d)\n",
    "print()\n",
    "arr_2d=np.array([[1,2,3],[4,5,6],[7,8,9],[10,11,12]])\n",
    "print(arr_2d)\n",
    "print()\n",
    "print(arr_1d.ndim)\n",
    "print()\n",
    "print(arr_2d.ndim)\n",
    "print()\n",
    "print(arr_1d.shape)\n",
    "print()\n",
    "print(arr_2d.shape)\n",
    "print()\n",
    "print(arr_1d.size)\n",
    "print()\n",
    "print(arr_2d.size)"
   ]
  },
  {
   "cell_type": "markdown",
   "metadata": {},
   "source": [
    "# Question no 4 answer"
   ]
  },
  {
   "cell_type": "code",
   "execution_count": 24,
   "metadata": {},
   "outputs": [
    {
     "name": "stdout",
     "output_type": "stream",
     "text": [
      "[0 1 2 3 4 5 6 7 8 9]\n",
      "\n",
      "(10,)\n",
      "\n",
      "[[0 1 2 3 4 5 6 7 8 9]]\n",
      "\n",
      "(1, 10)\n"
     ]
    }
   ],
   "source": [
    "import numpy as np\n",
    "arr=np.arange(10)\n",
    "print(arr)\n",
    "print()\n",
    "print(arr.shape)\n",
    "print()\n",
    "arr1=arr[np.newaxis,:]\n",
    "print(arr1)\n",
    "print()\n",
    "print(arr1.shape)"
   ]
  },
  {
   "cell_type": "code",
   "execution_count": 25,
   "metadata": {},
   "outputs": [
    {
     "name": "stdout",
     "output_type": "stream",
     "text": [
      "[0 1 2 3 4 5 6 7 8 9]\n",
      "\n",
      "(10,)\n",
      "\n",
      "[[0]\n",
      " [1]\n",
      " [2]\n",
      " [3]\n",
      " [4]\n",
      " [5]\n",
      " [6]\n",
      " [7]\n",
      " [8]\n",
      " [9]]\n",
      "\n",
      "(10, 1)\n"
     ]
    }
   ],
   "source": [
    "import numpy as np\n",
    "arr=np.arange(10)\n",
    "print(arr)\n",
    "print()\n",
    "print(arr.shape)\n",
    "print()\n",
    "arr1=np.expand_dims(arr, axis=1)\n",
    "print(arr1)\n",
    "print()\n",
    "print(arr1.shape)"
   ]
  },
  {
   "cell_type": "code",
   "execution_count": 26,
   "metadata": {},
   "outputs": [
    {
     "name": "stdout",
     "output_type": "stream",
     "text": [
      "[0 1 2 3 4 5 6 7 8 9]\n",
      "\n",
      "(10,)\n",
      "\n",
      "[[0 1 2 3 4 5 6 7 8 9]]\n",
      "\n",
      "(1, 10)\n"
     ]
    }
   ],
   "source": [
    "import numpy as np\n",
    "arr=np.arange(10)\n",
    "print(arr)\n",
    "print()\n",
    "print(arr.shape)\n",
    "print()\n",
    "arr1=np.expand_dims(arr, axis=0)\n",
    "print(arr1)\n",
    "print()\n",
    "print(arr1.shape)"
   ]
  },
  {
   "cell_type": "markdown",
   "metadata": {},
   "source": [
    "# Question no 5 answer"
   ]
  },
  {
   "cell_type": "code",
   "execution_count": 30,
   "metadata": {},
   "outputs": [
    {
     "name": "stdout",
     "output_type": "stream",
     "text": [
      "[  4  36  64 100]\n",
      "\n",
      "[   1  225  324 1296]\n",
      "\n",
      "[[   4   36   64  100]\n",
      " [   1  225  324 1296]]\n",
      "\n",
      "[   4   36   64  100    1  225  324 1296]\n"
     ]
    }
   ],
   "source": [
    "import numpy as np\n",
    "arr1=np.array([2,6,8,10])\n",
    "arr2=np.array([1,15,18,36])\n",
    "a=np.square(arr1)\n",
    "b=np.square(arr2)\n",
    "print(a)\n",
    "print()\n",
    "print(b)\n",
    "print()\n",
    "print(np.vstack((a,b)))\n",
    "print()\n",
    "print(np.hstack((a,b)))"
   ]
  },
  {
   "cell_type": "markdown",
   "metadata": {},
   "source": [
    "# Question no 6 answer"
   ]
  },
  {
   "cell_type": "code",
   "execution_count": 33,
   "metadata": {},
   "outputs": [
    {
     "name": "stdout",
     "output_type": "stream",
     "text": [
      "[[ 1  5]\n",
      " [ 2  3]\n",
      " [ 5  1]\n",
      " [25  1]]\n"
     ]
    }
   ],
   "source": [
    "import numpy as np\n",
    "\n",
    "arr = np.array([1,1,1,2,2,2,5,25,1,1])\n",
    "unique, counts = np.unique(arr, return_counts=True)\n",
    "\n",
    "print(np.asarray((unique, counts)).T)"
   ]
  },
  {
   "cell_type": "code",
   "execution_count": null,
   "metadata": {},
   "outputs": [],
   "source": []
  }
 ],
 "metadata": {
  "kernelspec": {
   "display_name": "Python 3",
   "language": "python",
   "name": "python3"
  },
  "language_info": {
   "codemirror_mode": {
    "name": "ipython",
    "version": 3
   },
   "file_extension": ".py",
   "mimetype": "text/x-python",
   "name": "python",
   "nbconvert_exporter": "python",
   "pygments_lexer": "ipython3",
   "version": "3.8.3"
  }
 },
 "nbformat": 4,
 "nbformat_minor": 4
}
